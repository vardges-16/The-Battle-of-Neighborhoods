{
 "cells": [
  {
   "cell_type": "markdown",
   "metadata": {},
   "source": [
    "# Introduction and Business Problem\n",
    "\n",
    "A startup company has decided to enter into the tourism market in the Canada. The company's CEO acknowledges the challenges and barriers his company is going to face since the sector is very saturated and many agencies already operate in the sector. However, he believes that a modern data-driven approach can help him to identify the gaps in the market. Once the gaps are identified, the company can enter the market by offering the best practice. \n",
    "As possible locations for the initial operations the company has identified the most important city in Canada, Toronto. The city is very famous and attracts millions of tourists every year. Thus, the CEO of the startup, wants to offer individual tours based on the preferences of the tourists. This approach is going to be beneficial for both: the client is going to visit the places he/she likes the most, and the company can charge an extra fee for the personalized tour. So the company needs a clear mapping of the city in form of clusters, based on the attractions available in different neighborhoods."
   ]
  },
  {
   "cell_type": "markdown",
   "metadata": {},
   "source": [
    "# Data"
   ]
  },
  {
   "cell_type": "markdown",
   "metadata": {},
   "source": [
    "To address the problem data from several sources should be acquired.\n",
    "\n",
    "#### Toronto\n",
    "The data from Wikipedia page is going to be used in the analysis. It contains information about postal codes, borough, and Neighborhoods. The data consist of three columns and 103 rows. Data should be preprocessed before analyzing, in order to avoid any missing data in the table.\n",
    "\n",
    "#### Longitude and latitude\n",
    "Another data source is going to be used to get the longitude and latitude of geographical regions in order to be able to plot the data. \n",
    "\n",
    "#### Forsquare\n",
    "Finally, the data should be analyzed by using the Forsquare API services. The data includes information on available restaurants, hotels, historical places, parks, theaters, art galleries, museums, as well as other tourist attractions. \n"
   ]
  },
  {
   "cell_type": "code",
   "execution_count": null,
   "metadata": {},
   "outputs": [],
   "source": []
  }
 ],
 "metadata": {
  "kernelspec": {
   "display_name": "Python 3",
   "language": "python",
   "name": "python3"
  },
  "language_info": {
   "codemirror_mode": {
    "name": "ipython",
    "version": 3
   },
   "file_extension": ".py",
   "mimetype": "text/x-python",
   "name": "python",
   "nbconvert_exporter": "python",
   "pygments_lexer": "ipython3",
   "version": "3.7.6"
  }
 },
 "nbformat": 4,
 "nbformat_minor": 4
}
